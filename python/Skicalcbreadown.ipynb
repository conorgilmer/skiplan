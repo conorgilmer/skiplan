{
 "metadata": {
  "name": "",
  "signature": "sha256:f3d58ce78c6772b50bf4afeaf297f29a6708e9bc9295842a37413557129a861e"
 },
 "nbformat": 3,
 "nbformat_minor": 0,
 "worksheets": [
  {
   "cells": [
    {
     "cell_type": "code",
     "collapsed": false,
     "input": [
      "from pylab import *\n",
      "\n",
      "# make a square figure and axes\n",
      "figure(1, figsize=(6,6))\n",
      "ax = axes([0.1, 0.1, 0.8, 0.8])\n",
      "\n",
      "# The slices will be ordered and plotted counter-clockwise.\n",
      "colours = ['yellow', 'orange', 'red', 'blue', 'green', 'purple']\n",
      "labels = 'Flights', 'Transfers', 'Accommodation', 'Skipass', 'Skipack', 'insurance'\n",
      "fracs = [200, 50, 300, 100, 110, 26]\n",
      "explode=(0, 0.05, 0, 0, 0,0)\n",
      "\n",
      "pie(fracs, explode=explode, labels=labels,\n",
      "                autopct='%1.1f%%', shadow=True, startangle=90, colors=colours)\n",
      "                # The default startangle is 0, which would start\n",
      "                # the Frogs slice on the x-axis.  With startangle=90,\n",
      "                # everything is rotated counter-clockwise by 90 degrees,\n",
      "                # so the plotting starts on the positive y-axis.\n",
      "\n",
      "title('Breakdown of Ski Trip Costs', bbox={'facecolor':'0.8', 'pad':5})\n",
      "\n",
      "show()"
     ],
     "language": "python",
     "metadata": {},
     "outputs": []
    },
    {
     "cell_type": "code",
     "collapsed": false,
     "input": [],
     "language": "python",
     "metadata": {},
     "outputs": []
    }
   ],
   "metadata": {}
  }
 ]
}