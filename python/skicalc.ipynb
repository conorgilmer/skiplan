{
 "metadata": {
  "name": "",
  "signature": "sha256:a02ad712d7b310c053efbcc9a09c8afcf180a119d830fd3ecd5595c287a9ad15"
 },
 "nbformat": 3,
 "nbformat_minor": 0,
 "worksheets": [
  {
   "cells": [
    {
     "cell_type": "code",
     "collapsed": false,
     "input": [
      "#get user input\n",
      "\n",
      "print \"Ski Trip Costs\";\n",
      "location = raw_input(\"Location of Trip? \");\n",
      "flights = float(raw_input(\"Cost of Flights? \"));\n",
      "transfers = float(raw_input(\"Cost of Transfers? \"));\n",
      "accommodation = float(raw_input(\"Cost of Accommodation? \"));\n",
      "skipass = float(raw_input(\"Cost of Ski pass? \"));\n",
      "skihire = float(raw_input(\"Cost of Ski hire? \"));\n",
      "\n",
      "total = flights + transfers + accommodation + skihire + skipass;\n",
      "\n",
      "print \"Total Costs = \", total;\n"
     ],
     "language": "python",
     "metadata": {},
     "outputs": [
      {
       "output_type": "stream",
       "stream": "stdout",
       "text": [
        "Ski Trip Costs\n"
       ]
      },
      {
       "name": "stdout",
       "output_type": "stream",
       "stream": "stdout",
       "text": [
        "Location of Trip? 300\n"
       ]
      },
      {
       "name": "stdout",
       "output_type": "stream",
       "stream": "stdout",
       "text": [
        "Cost of Flights? 50\n"
       ]
      },
      {
       "name": "stdout",
       "output_type": "stream",
       "stream": "stdout",
       "text": [
        "Cost of Transfers? 300\n"
       ]
      },
      {
       "name": "stdout",
       "output_type": "stream",
       "stream": "stdout",
       "text": [
        "Cost of Accommodation? 500\n"
       ]
      },
      {
       "name": "stdout",
       "output_type": "stream",
       "stream": "stdout",
       "text": [
        "Cost of Ski hire? 110\n"
       ]
      },
      {
       "name": "stdout",
       "output_type": "stream",
       "stream": "stdout",
       "text": [
        "Cost of Ski pass? 63\n"
       ]
      },
      {
       "output_type": "stream",
       "stream": "stdout",
       "text": [
        "Total Costs =  1023.0\n"
       ]
      }
     ],
     "prompt_number": 9
    },
    {
     "cell_type": "code",
     "collapsed": false,
     "input": [],
     "language": "python",
     "metadata": {},
     "outputs": []
    }
   ],
   "metadata": {}
  }
 ]
}