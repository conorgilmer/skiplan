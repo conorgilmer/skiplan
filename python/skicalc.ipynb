{
 "metadata": {
  "name": "",
  "signature": "sha256:548576ee80d19bcb3fce22e8221b438566d9183d7b4d41b86e910a037ce10b24"
 },
 "nbformat": 3,
 "nbformat_minor": 0,
 "worksheets": [
  {
   "cells": [
    {
     "cell_type": "code",
     "collapsed": false,
     "input": [
      "#get user input\n",
      "\n",
      "def getTripInfo():\n",
      "  skiTripSet = []\n",
      "  skiTripRecord = {}\n",
      "  skiTripRecord[\"Location\"]      = raw_input(\"Location of Trip? \")\n",
      "  skiTripRecord[\"Flights\"]       = float(raw_input(\"Cost of Flights? \"))\n",
      "  skiTripRecord[\"Transfers\"]     = float(raw_input(\"Cost of Transfers? \"))\n",
      "  skiTripRecord[\"Accommodation\"] = float(raw_input(\"Cost of Accommodation? \"))\n",
      "  skiTripRecord[\"Ski pass\"]      = float(raw_input(\"Cost of Ski pass? \"))\n",
      "  skiTripRecord[\"Ski hire\"]      = float(raw_input(\"Cost of Ski hire? \"))\n",
      "  total = skiTripRecord['Flights'] + skiTripRecord['Transfers'] + skiTripRecord['Accommodation'] + skiTripRecord['Ski hire'] + skiTripRecord['Ski pass']\n",
      "  print \"Total Costs = \", total\n",
      "  skiTripRecord[\"Total Cost\"]    = total\n",
      "  return skiTripRecord\n",
      "#  skiTripSet.append(skiTripRecord)\n",
      "#  return skiTripSet\n",
      "\n",
      "def writeToFile(tripRec):\n",
      "  print \"Writing to File\"\n",
      "  print tripRec\n",
      "  print \"End of write to file\"\n",
      "\n",
      "def main():\n",
      "  print \" *** The Start *** \"\n",
      "  print \"Ski Trip Costs\"\n",
      "  tripRecord ={}\n",
      "  tripRecord = getTripInfo()\n",
      "  print tripRecord\n",
      "  writeToFile(tripRecord)\n",
      "  print \" *** The End *** \"\n",
      "\n",
      "main()\n",
      "\n"
     ],
     "language": "python",
     "metadata": {},
     "outputs": [
      {
       "output_type": "stream",
       "stream": "stdout",
       "text": [
        " *** The Start *** \n",
        "Ski Trip Costs\n"
       ]
      },
      {
       "name": "stdout",
       "output_type": "stream",
       "stream": "stdout",
       "text": [
        "Location of Trip? Olso\n"
       ]
      },
      {
       "name": "stdout",
       "output_type": "stream",
       "stream": "stdout",
       "text": [
        "Cost of Flights? 11\n"
       ]
      },
      {
       "name": "stdout",
       "output_type": "stream",
       "stream": "stdout",
       "text": [
        "Cost of Transfers? 88\n"
       ]
      },
      {
       "name": "stdout",
       "output_type": "stream",
       "stream": "stdout",
       "text": [
        "Cost of Accommodation? 100\n"
       ]
      },
      {
       "name": "stdout",
       "output_type": "stream",
       "stream": "stdout",
       "text": [
        "Cost of Ski pass? 90\n"
       ]
      },
      {
       "name": "stdout",
       "output_type": "stream",
       "stream": "stdout",
       "text": [
        "Cost of Ski hire? 90\n"
       ]
      },
      {
       "output_type": "stream",
       "stream": "stdout",
       "text": [
        "Total Costs =  379.0\n",
        "{'Ski hire': 90.0, 'Flights': 11.0, 'Location': 'Olso', 'Ski pass': 90.0, 'Transfers': 88.0, 'Accommodation': 100.0, 'Total Cost': 379.0}\n",
        "Writing to File\n",
        "{'Ski hire': 90.0, 'Flights': 11.0, 'Location': 'Olso', 'Ski pass': 90.0, 'Transfers': 88.0, 'Accommodation': 100.0, 'Total Cost': 379.0}\n",
        "End of write to file\n",
        " *** The End *** \n"
       ]
      }
     ],
     "prompt_number": 12
    },
    {
     "cell_type": "code",
     "collapsed": false,
     "input": [],
     "language": "python",
     "metadata": {},
     "outputs": []
    }
   ],
   "metadata": {}
  }
 ]
}