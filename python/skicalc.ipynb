{
 "metadata": {
  "name": "",
  "signature": "sha256:e1e14e7f7d14f8284ebbac878c803432b2ed7e787cf74091b9bfedca051e8229"
 },
 "nbformat": 3,
 "nbformat_minor": 0,
 "worksheets": [
  {
   "cells": [
    {
     "cell_type": "code",
     "collapsed": false,
     "input": [
      "#get user input\n",
      "\n",
      "def getTripInfo():\n",
      "  skiTripSet = []\n",
      "  skiTripRecord = {}\n",
      "  location = raw_input(\"Location of Trip? \")\n",
      "  flights = float(raw_input(\"Cost of Flights? \"))\n",
      "  transfers = float(raw_input(\"Cost of Transfers? \"))\n",
      "  accommodation = float(raw_input(\"Cost of Accommodation? \"))\n",
      "  skipass = float(raw_input(\"Cost of Ski pass? \"))\n",
      "  skihire = float(raw_input(\"Cost of Ski hire? \"))\n",
      "  total = flights + transfers + accommodation + skihire + skipass\n",
      "  print \"Total Costs = \", total\n",
      "  skiTripRecord[\"Location\"] = location\n",
      "  skiTripRecord[\"Flights\"] = flights\n",
      "  skiTripRecord[\"Transfers\"] = transfers\n",
      "  skiTripRecord[\"Accommodation\"] = accommodation\n",
      "  skiTripRecord[\"Ski pass\"] = skipass\n",
      "  skiTripRecord[\"Ski hire\"] = skihire\n",
      "  skiTripSet.append(skiTripRecord)\n",
      "  return skiTripSet\n",
      "\n",
      "\n",
      "def main():\n",
      "  print \" *** The Start *** \"\n",
      "  print \"Ski Trip Costs\"\n",
      "  print getTripInfo()\n",
      "  print \" *** The End *** \"\n",
      "\n",
      "main()\n",
      "\n"
     ],
     "language": "python",
     "metadata": {},
     "outputs": [
      {
       "output_type": "stream",
       "stream": "stdout",
       "text": [
        " *** The Start *** \n",
        "Ski Trip Costs\n"
       ]
      },
      {
       "name": "stdout",
       "output_type": "stream",
       "stream": "stdout",
       "text": [
        "Location of Trip? Oslo\n"
       ]
      },
      {
       "name": "stdout",
       "output_type": "stream",
       "stream": "stdout",
       "text": [
        "Cost of Flights? 0\n"
       ]
      },
      {
       "name": "stdout",
       "output_type": "stream",
       "stream": "stdout",
       "text": [
        "Cost of Transfers? 66\n"
       ]
      },
      {
       "name": "stdout",
       "output_type": "stream",
       "stream": "stdout",
       "text": [
        "Cost of Accommodation? 150\n"
       ]
      },
      {
       "name": "stdout",
       "output_type": "stream",
       "stream": "stdout",
       "text": [
        "Cost of Ski pass? 55\n"
       ]
      },
      {
       "name": "stdout",
       "output_type": "stream",
       "stream": "stdout",
       "text": [
        "Cost of Ski hire? 44\n"
       ]
      },
      {
       "output_type": "stream",
       "stream": "stdout",
       "text": [
        "Total Costs =  315.0\n",
        "[{'Ski hire': 44.0, 'Flights': 0.0, 'Location': 'Oslo', 'Ski pass': 55.0, 'Transfers': 66.0, 'Accommodation': 150.0}]\n",
        " *** The End *** \n"
       ]
      }
     ],
     "prompt_number": 5
    },
    {
     "cell_type": "code",
     "collapsed": false,
     "input": [],
     "language": "python",
     "metadata": {},
     "outputs": []
    }
   ],
   "metadata": {}
  }
 ]
}